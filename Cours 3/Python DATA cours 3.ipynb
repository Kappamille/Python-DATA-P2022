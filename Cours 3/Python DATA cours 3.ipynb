{
 "cells": [
  {
   "cell_type": "markdown",
   "id": "bfe19ad4",
   "metadata": {},
   "source": [
    "# Exploration de donnés avec du texte et des dates (text preprocessing & time series)"
   ]
  },
  {
   "cell_type": "code",
   "execution_count": null,
   "id": "c83d50aa",
   "metadata": {},
   "outputs": [],
   "source": [
    "TO DO - > extraire tweets avec # avengers et adapt exercices ? "
   ]
  },
  {
   "cell_type": "markdown",
   "id": "a71fc40b",
   "metadata": {},
   "source": [
    "Objectif du cours:\n",
    "- Arriver à manipuler du format texte en python\n",
    "- Arriver à manipuler les formats de date en python \n",
    "- Appliquer les compétences travaillés dans le cours 1 et 2 pour extraires des informations d'un dataset"
   ]
  },
  {
   "cell_type": "markdown",
   "id": "95f3260b",
   "metadata": {},
   "source": [
    "## Partie 1 - Charger et Explorer le data set"
   ]
  },
  {
   "cell_type": "markdown",
   "id": "8ecd5cf6",
   "metadata": {},
   "source": [
    "Grâce aux connaissances et compétences que vous avez acquis dans les 2 derniers cours, à vous de charger le datset suivant https://www.kaggle.com/kavita5/twitter-dataset-avengersendgame et de le manipuler en autonomie pour répondre aux questions ci-dessous."
   ]
  },
  {
   "cell_type": "markdown",
   "id": "7bcd9e9f",
   "metadata": {},
   "source": [
    "**Exercice:** \n",
    "- Que représnte chaque colonne ?\n",
    "- Quel est la type de variable de chaque colonne ?\n",
    "- Affichez le texte d'un vingtaine de tweets ?"
   ]
  },
  {
   "cell_type": "markdown",
   "id": "2600c4ec",
   "metadata": {},
   "source": [
    "## Partie 2 - Le format de date"
   ]
  },
  {
   "cell_type": "markdown",
   "id": "3d2e1523",
   "metadata": {},
   "source": [
    "https://towardsdatascience.com/working-with-datetime-in-pandas-dataframe-663f7af6c587"
   ]
  },
  {
   "cell_type": "code",
   "execution_count": null,
   "id": "43d0e586",
   "metadata": {},
   "outputs": [],
   "source": [
    "Librairie datetime en python "
   ]
  },
  {
   "cell_type": "code",
   "execution_count": 1,
   "id": "ffc4bfb7",
   "metadata": {},
   "outputs": [],
   "source": [
    "from datetime import date"
   ]
  },
  {
   "cell_type": "code",
   "execution_count": 19,
   "id": "f27daafc",
   "metadata": {},
   "outputs": [
    {
     "data": {
      "text/plain": [
       "datetime.date(2021, 8, 26)"
      ]
     },
     "execution_count": 19,
     "metadata": {},
     "output_type": "execute_result"
    }
   ],
   "source": [
    "#Afficher la date d'ajd\n",
    "d1 = date.today() \n",
    "d1"
   ]
  },
  {
   "cell_type": "code",
   "execution_count": 20,
   "id": "0b2164ef",
   "metadata": {},
   "outputs": [
    {
     "name": "stdout",
     "output_type": "stream",
     "text": [
      "Date d'aujourd'hui : 2021-08-26\n",
      "Day : 26\n",
      "Month : 8\n",
      "Year : 2021\n"
     ]
    }
   ],
   "source": [
    "print('Date d\\'aujourd\\'hui :', d1)\n",
    "# day\n",
    "print('Day :',d1.day)\n",
    "# month\n",
    "print('Month :',d1.month)\n",
    "# year\n",
    "print('Year :',d1.year)"
   ]
  },
  {
   "cell_type": "code",
   "execution_count": 21,
   "id": "ca712e26",
   "metadata": {},
   "outputs": [],
   "source": [
    "from datetime import time"
   ]
  },
  {
   "cell_type": "code",
   "execution_count": 27,
   "id": "031aa538",
   "metadata": {},
   "outputs": [
    {
     "name": "stdout",
     "output_type": "stream",
     "text": [
      "Hour : 13\n",
      "Minute : 20\n",
      "Second : 13\n"
     ]
    }
   ],
   "source": [
    "t1 = time(13,20,13)\n",
    "print('Hour :',t1.hour)\n",
    "# minute\n",
    "print('Minute :',t1.minute)\n",
    "# second\n",
    "print('Second :',t1.second)"
   ]
  },
  {
   "cell_type": "code",
   "execution_count": 28,
   "id": "39afc0a8",
   "metadata": {},
   "outputs": [
    {
     "name": "stdout",
     "output_type": "stream",
     "text": [
      "2020-04-23 11:20:30\n",
      "Date : 2020-04-23\n",
      "Time : 11:20:30\n"
     ]
    }
   ],
   "source": [
    "from datetime import datetime\n",
    "dt1 = datetime(2020,4,23,11,20,30)\n",
    "print(dt1)\n",
    "print('Date :',dt1.date())\n",
    "# time\n",
    "print('Time :',dt1.time())"
   ]
  },
  {
   "cell_type": "code",
   "execution_count": 31,
   "id": "13f8397d",
   "metadata": {},
   "outputs": [
    {
     "name": "stdout",
     "output_type": "stream",
     "text": [
      "3\n",
      "4\n"
     ]
    }
   ],
   "source": [
    "dt2 = datetime.now()\n",
    "# week starts from 0\n",
    "print(dt2.weekday()) # output 3 for Thursday\n",
    "# week starts with 1\n",
    "print(dt2.isoweekday()) # output 4 in ISO format"
   ]
  },
  {
   "cell_type": "code",
   "execution_count": 32,
   "id": "d13c7e8e",
   "metadata": {},
   "outputs": [
    {
     "name": "stdout",
     "output_type": "stream",
     "text": [
      "Datetime object : 2021-08-26 20:13:40.303235\n",
      "Formatted date : 26/08/2021 20:13\n",
      "<class 'str'>\n"
     ]
    }
   ],
   "source": [
    "#convert date to string \n",
    "d1 = datetime.now()\n",
    "print('Datetime object :',d1)\n",
    "new_date = d1.strftime('%d/%m/%Y %H:%M')\n",
    "print('Formatted date :',new_date)\n",
    "print(type(new_date))"
   ]
  },
  {
   "cell_type": "code",
   "execution_count": 33,
   "id": "a8b82392",
   "metadata": {},
   "outputs": [
    {
     "name": "stdout",
     "output_type": "stream",
     "text": [
      "2020-04-22 13:20:13\n",
      "<class 'datetime.datetime'>\n"
     ]
    }
   ],
   "source": [
    "#convert string to date \n",
    "date = '22 April, 2020 13:20:13'\n",
    "d1 = datetime.strptime(date,'%d %B, %Y %H:%M:%S')\n",
    "print(d1)\n",
    "print(type(d1))"
   ]
  },
  {
   "cell_type": "markdown",
   "id": "81671a30",
   "metadata": {},
   "source": [
    "Vous pouvez consulter tous les codes pour les formats de date sur le lien suivant: https://strftime.org"
   ]
  },
  {
   "cell_type": "markdown",
   "id": "61162578",
   "metadata": {},
   "source": [
    "Les formats de date avec pandas: \n",
    "- https://pandas.pydata.org/pandas-docs/stable/reference/api/pandas.to_datetime.html \n",
    "- https://pandas.pydata.org/docs/reference/api/pandas.Series.dt.html"
   ]
  },
  {
   "cell_type": "code",
   "execution_count": 69,
   "id": "6fa73fa7",
   "metadata": {},
   "outputs": [],
   "source": [
    "import pandas as pd"
   ]
  },
  {
   "cell_type": "code",
   "execution_count": 70,
   "id": "e2c5a26d",
   "metadata": {},
   "outputs": [
    {
     "data": {
      "text/html": [
       "<div>\n",
       "<style scoped>\n",
       "    .dataframe tbody tr th:only-of-type {\n",
       "        vertical-align: middle;\n",
       "    }\n",
       "\n",
       "    .dataframe tbody tr th {\n",
       "        vertical-align: top;\n",
       "    }\n",
       "\n",
       "    .dataframe thead th {\n",
       "        text-align: right;\n",
       "    }\n",
       "</style>\n",
       "<table border=\"1\" class=\"dataframe\">\n",
       "  <thead>\n",
       "    <tr style=\"text-align: right;\">\n",
       "      <th></th>\n",
       "      <th>year</th>\n",
       "      <th>month</th>\n",
       "      <th>day</th>\n",
       "    </tr>\n",
       "  </thead>\n",
       "  <tbody>\n",
       "    <tr>\n",
       "      <th>0</th>\n",
       "      <td>2015</td>\n",
       "      <td>2</td>\n",
       "      <td>4</td>\n",
       "    </tr>\n",
       "    <tr>\n",
       "      <th>1</th>\n",
       "      <td>2016</td>\n",
       "      <td>3</td>\n",
       "      <td>5</td>\n",
       "    </tr>\n",
       "  </tbody>\n",
       "</table>\n",
       "</div>"
      ],
      "text/plain": [
       "   year  month  day\n",
       "0  2015      2    4\n",
       "1  2016      3    5"
      ]
     },
     "execution_count": 70,
     "metadata": {},
     "output_type": "execute_result"
    }
   ],
   "source": [
    "df = pd.DataFrame({'year': [2015, 2016], 'month': [2, 3], 'day': [4, 5]})\n",
    "df"
   ]
  },
  {
   "cell_type": "code",
   "execution_count": 71,
   "id": "2e626c9c",
   "metadata": {},
   "outputs": [
    {
     "data": {
      "text/plain": [
       "0   2015-02-04\n",
       "1   2016-03-05\n",
       "dtype: datetime64[ns]"
      ]
     },
     "execution_count": 71,
     "metadata": {},
     "output_type": "execute_result"
    }
   ],
   "source": [
    "pd.to_datetime(df) #On peut également préciser le format de conversion si celui ci est plus complexe, ou bien laisser pandas inférer lui même le format"
   ]
  },
  {
   "cell_type": "code",
   "execution_count": 72,
   "id": "dbcae288",
   "metadata": {},
   "outputs": [],
   "source": [
    "df['date']= pd.to_datetime(df)"
   ]
  },
  {
   "cell_type": "code",
   "execution_count": 73,
   "id": "47625b1d",
   "metadata": {},
   "outputs": [
    {
     "data": {
      "text/html": [
       "<div>\n",
       "<style scoped>\n",
       "    .dataframe tbody tr th:only-of-type {\n",
       "        vertical-align: middle;\n",
       "    }\n",
       "\n",
       "    .dataframe tbody tr th {\n",
       "        vertical-align: top;\n",
       "    }\n",
       "\n",
       "    .dataframe thead th {\n",
       "        text-align: right;\n",
       "    }\n",
       "</style>\n",
       "<table border=\"1\" class=\"dataframe\">\n",
       "  <thead>\n",
       "    <tr style=\"text-align: right;\">\n",
       "      <th></th>\n",
       "      <th>year</th>\n",
       "      <th>month</th>\n",
       "      <th>day</th>\n",
       "      <th>date</th>\n",
       "    </tr>\n",
       "  </thead>\n",
       "  <tbody>\n",
       "    <tr>\n",
       "      <th>0</th>\n",
       "      <td>2015</td>\n",
       "      <td>2</td>\n",
       "      <td>4</td>\n",
       "      <td>2015-02-04</td>\n",
       "    </tr>\n",
       "    <tr>\n",
       "      <th>1</th>\n",
       "      <td>2016</td>\n",
       "      <td>3</td>\n",
       "      <td>5</td>\n",
       "      <td>2016-03-05</td>\n",
       "    </tr>\n",
       "  </tbody>\n",
       "</table>\n",
       "</div>"
      ],
      "text/plain": [
       "   year  month  day       date\n",
       "0  2015      2    4 2015-02-04\n",
       "1  2016      3    5 2016-03-05"
      ]
     },
     "execution_count": 73,
     "metadata": {},
     "output_type": "execute_result"
    }
   ],
   "source": [
    "df"
   ]
  },
  {
   "cell_type": "code",
   "execution_count": 76,
   "id": "28336455",
   "metadata": {},
   "outputs": [
    {
     "data": {
      "text/html": [
       "<div>\n",
       "<style scoped>\n",
       "    .dataframe tbody tr th:only-of-type {\n",
       "        vertical-align: middle;\n",
       "    }\n",
       "\n",
       "    .dataframe tbody tr th {\n",
       "        vertical-align: top;\n",
       "    }\n",
       "\n",
       "    .dataframe thead th {\n",
       "        text-align: right;\n",
       "    }\n",
       "</style>\n",
       "<table border=\"1\" class=\"dataframe\">\n",
       "  <thead>\n",
       "    <tr style=\"text-align: right;\">\n",
       "      <th></th>\n",
       "      <th>year</th>\n",
       "      <th>month</th>\n",
       "      <th>day</th>\n",
       "      <th>date</th>\n",
       "      <th>day of week</th>\n",
       "    </tr>\n",
       "  </thead>\n",
       "  <tbody>\n",
       "    <tr>\n",
       "      <th>0</th>\n",
       "      <td>2015</td>\n",
       "      <td>2</td>\n",
       "      <td>4</td>\n",
       "      <td>2015-02-04</td>\n",
       "      <td>2</td>\n",
       "    </tr>\n",
       "    <tr>\n",
       "      <th>1</th>\n",
       "      <td>2016</td>\n",
       "      <td>3</td>\n",
       "      <td>5</td>\n",
       "      <td>2016-03-05</td>\n",
       "      <td>5</td>\n",
       "    </tr>\n",
       "  </tbody>\n",
       "</table>\n",
       "</div>"
      ],
      "text/plain": [
       "   year  month  day       date  day of week\n",
       "0  2015      2    4 2015-02-04            2\n",
       "1  2016      3    5 2016-03-05            5"
      ]
     },
     "execution_count": 76,
     "metadata": {},
     "output_type": "execute_result"
    }
   ],
   "source": [
    "df['day of week']=df['date'].dt.dayofweek #Les méthodes dt.year, dt\n",
    "df"
   ]
  },
  {
   "cell_type": "markdown",
   "id": "599362d5",
   "metadata": {},
   "source": [
    "**Exercices:**\n",
    "- Quel est la date et l'heure du tweet le plus récent ?\n",
    "- Quel est la date et l'heure du tweet le plus ancien ?\n",
    "- Faites un graphique affichant le nombre de tweets par jour\n",
    "- A quelle h de la journée y a t'il le plus de tweets ?\n",
    "- A quelle h de la journée y a t'il le moins de tweets ?\n",
    "- Quel jour de la semaine y a t'il le plus de tweets ?\n",
    "- Quel jour de la semaine y t'il le moins de tweets ?"
   ]
  },
  {
   "cell_type": "code",
   "execution_count": null,
   "id": "de2b4147",
   "metadata": {},
   "outputs": [],
   "source": [
    "#Votre code"
   ]
  },
  {
   "cell_type": "markdown",
   "id": "74ca7f0b",
   "metadata": {},
   "source": [
    "Pour aller plus loin:\n",
    "- https://docs.python.org/3/library/datetime.html\n",
    "- https://towardsdatascience.com/working-with-datetime-in-pandas-dataframe-663f7af6c587\n",
    "- https://www.analyticsvidhya.com/blog/2020/05/datetime-variables-python-pandas/"
   ]
  },
  {
   "cell_type": "markdown",
   "id": "62633301",
   "metadata": {},
   "source": [
    "## Partie 3 - NLP "
   ]
  },
  {
   "cell_type": "markdown",
   "id": "387fd41c",
   "metadata": {},
   "source": [
    "Prenons un texte exemple sur lequel nous allons effectuer des opérations de preprocessing de texte."
   ]
  },
  {
   "cell_type": "code",
   "execution_count": 1,
   "id": "f0729b17",
   "metadata": {},
   "outputs": [],
   "source": [
    "phrase = \"Bonjour je suis une phrase exemple avec des #Hastags et des @arobases et aussi 1 nombre, 2 nombres,... 2118328 nombres etc. J'ai aussi beaucoup ! de carctères $ spéciaux ?!\" "
   ]
  },
  {
   "cell_type": "code",
   "execution_count": 2,
   "id": "6cb709aa",
   "metadata": {},
   "outputs": [
    {
     "data": {
      "text/plain": [
       "\"bonjour je suis une phrase exemple avec des #hastags et des @arobases et aussi 1 nombre, 2 nombres,... 2118328 nombres etc. j'ai aussi beaucoup ! de carctères $ spéciaux ?!\""
      ]
     },
     "execution_count": 2,
     "metadata": {},
     "output_type": "execute_result"
    }
   ],
   "source": [
    "#Lowercase\n",
    "phrase_lowercase = phrase.lower()\n",
    "phrase_lowercase"
   ]
  },
  {
   "cell_type": "code",
   "execution_count": 3,
   "id": "773de791",
   "metadata": {},
   "outputs": [
    {
     "data": {
      "text/plain": [
       "'bonjour je suis une phrase exemple avec des #hastags et des @arobases et aussi 1 nombre  2 nombres     2118328 nombres etc  j ai aussi beaucoup   de carctères $ spéciaux   '"
      ]
     },
     "execution_count": 3,
     "metadata": {},
     "output_type": "execute_result"
    }
   ],
   "source": [
    "#Extraire la ponctuation\n",
    "import re\n",
    "phrase_sans_ponctuation = re.sub(\"[',!?.]\", \" \", phrase_lowercase)\n",
    "phrase_sans_ponctuation"
   ]
  },
  {
   "cell_type": "code",
   "execution_count": 4,
   "id": "f063e935",
   "metadata": {},
   "outputs": [
    {
     "data": {
      "text/plain": [
       "'bonjour je suis une phrase exemple avec des #hastags et des @arobases et aussi   nombre    nombres             nombres etc  j ai aussi beaucoup   de carctères $ spéciaux   '"
      ]
     },
     "execution_count": 4,
     "metadata": {},
     "output_type": "execute_result"
    }
   ],
   "source": [
    "#Extraire les nombres\n",
    "phrase_sans_nombre = re.sub(\"[0-9]\", \" \", phrase_sans_ponctuation)\n",
    "phrase_sans_nombre"
   ]
  },
  {
   "cell_type": "code",
   "execution_count": 5,
   "id": "7f7d150d",
   "metadata": {},
   "outputs": [
    {
     "data": {
      "text/plain": [
       "'bonjour je suis une phrase exemple avec des #hastags et des @arobases et aussi   nombre    nombres             nombres etc  j ai aussi beaucoup   de carctères   spéciaux   '"
      ]
     },
     "execution_count": 5,
     "metadata": {},
     "output_type": "execute_result"
    }
   ],
   "source": [
    "#Extraire les caractères spéciaux\n",
    "phrase_sans_caractère_spéciaux = re.sub(\"[$]\", \" \", phrase_sans_nombre)\n",
    "phrase_sans_caractère_spéciaux"
   ]
  },
  {
   "cell_type": "code",
   "execution_count": 6,
   "id": "e920b023",
   "metadata": {},
   "outputs": [
    {
     "data": {
      "text/plain": [
       "['bonjour',\n",
       " 'je',\n",
       " 'suis',\n",
       " 'une',\n",
       " 'phrase',\n",
       " 'exemple',\n",
       " 'avec',\n",
       " 'des',\n",
       " '#hastags',\n",
       " 'et',\n",
       " 'des',\n",
       " '@arobases',\n",
       " 'et',\n",
       " 'aussi',\n",
       " 'nombre',\n",
       " 'nombres',\n",
       " 'nombres',\n",
       " 'etc',\n",
       " 'j',\n",
       " 'ai',\n",
       " 'aussi',\n",
       " 'beaucoup',\n",
       " 'de',\n",
       " 'carctères',\n",
       " 'spéciaux']"
      ]
     },
     "execution_count": 6,
     "metadata": {},
     "output_type": "execute_result"
    }
   ],
   "source": [
    "#Extraire une liste de mots\n",
    "liste_mots = phrase_sans_caractère_spéciaux.split()\n",
    "liste_mots"
   ]
  },
  {
   "cell_type": "code",
   "execution_count": 7,
   "id": "7ced7823",
   "metadata": {},
   "outputs": [
    {
     "name": "stdout",
     "output_type": "stream",
     "text": [
      "['#hastags', '@arobases']\n",
      "['bonjour', 'je', 'suis', 'une', 'phrase', 'exemple', 'avec', 'des', 'et', 'des', 'et', 'aussi', 'nombre', 'nombres', 'nombres', 'etc', 'j', 'ai', 'aussi', 'beaucoup', 'de', 'carctères', 'spéciaux']\n"
     ]
    }
   ],
   "source": [
    "#extraire les #Hastags et @mentions\n",
    "liste_hastags_mentions = []\n",
    "liste_mots_pure = []\n",
    "for i in liste_mots:\n",
    "    if i[0] == \"#\" or i[0] == \"@\":\n",
    "        liste_hastags_mentions.append(i)\n",
    "    else:\n",
    "        liste_mots_pure.append(i)\n",
    "print(liste_hastags_mentions)    \n",
    "print(liste_mots_pure)"
   ]
  },
  {
   "cell_type": "code",
   "execution_count": 8,
   "id": "f9bbe147",
   "metadata": {},
   "outputs": [
    {
     "name": "stdout",
     "output_type": "stream",
     "text": [
      "['au', 'aux', 'avec', 'ce', 'ces', 'dans', 'de', 'des', 'du', 'elle', 'en', 'et', 'eux', 'il', 'ils', 'je', 'la', 'le', 'les', 'leur', 'lui', 'ma', 'mais', 'me', 'même', 'mes', 'moi', 'mon', 'ne', 'nos', 'notre', 'nous', 'on', 'ou', 'par', 'pas', 'pour', 'qu', 'que', 'qui', 'sa', 'se', 'ses', 'son', 'sur', 'ta', 'te', 'tes', 'toi', 'ton', 'tu', 'un', 'une', 'vos', 'votre', 'vous', 'c', 'd', 'j', 'l', 'à', 'm', 'n', 's', 't', 'y', 'été', 'étée', 'étées', 'étés', 'étant', 'étante', 'étants', 'étantes', 'suis', 'es', 'est', 'sommes', 'êtes', 'sont', 'serai', 'seras', 'sera', 'serons', 'serez', 'seront', 'serais', 'serait', 'serions', 'seriez', 'seraient', 'étais', 'était', 'étions', 'étiez', 'étaient', 'fus', 'fut', 'fûmes', 'fûtes', 'furent', 'sois', 'soit', 'soyons', 'soyez', 'soient', 'fusse', 'fusses', 'fût', 'fussions', 'fussiez', 'fussent', 'ayant', 'ayante', 'ayantes', 'ayants', 'eu', 'eue', 'eues', 'eus', 'ai', 'as', 'avons', 'avez', 'ont', 'aurai', 'auras', 'aura', 'aurons', 'aurez', 'auront', 'aurais', 'aurait', 'aurions', 'auriez', 'auraient', 'avais', 'avait', 'avions', 'aviez', 'avaient', 'eut', 'eûmes', 'eûtes', 'eurent', 'aie', 'aies', 'ait', 'ayons', 'ayez', 'aient', 'eusse', 'eusses', 'eût', 'eussions', 'eussiez', 'eussent']\n"
     ]
    }
   ],
   "source": [
    "#Enlever les stop words\n",
    "import nltk\n",
    "from nltk.corpus import stopwords\n",
    "print(stopwords.words('french'))"
   ]
  },
  {
   "cell_type": "code",
   "execution_count": 9,
   "id": "60e80bf5",
   "metadata": {},
   "outputs": [
    {
     "data": {
      "text/plain": [
       "['bonjour',\n",
       " 'phrase',\n",
       " 'exemple',\n",
       " 'aussi',\n",
       " 'nombre',\n",
       " 'nombres',\n",
       " 'nombres',\n",
       " 'etc',\n",
       " 'aussi',\n",
       " 'beaucoup',\n",
       " 'carctères',\n",
       " 'spéciaux']"
      ]
     },
     "execution_count": 9,
     "metadata": {},
     "output_type": "execute_result"
    }
   ],
   "source": [
    "liste_mots_sans_stopwords = [i for i in liste_mots_pure if i not in stopwords.words('french')]\n",
    "liste_mots_sans_stopwords"
   ]
  },
  {
   "cell_type": "code",
   "execution_count": 10,
   "id": "2c884cf7",
   "metadata": {},
   "outputs": [
    {
     "name": "stdout",
     "output_type": "stream",
     "text": [
      "['i', 'me', 'my', 'myself', 'we', 'our', 'ours', 'ourselves', 'you', \"you're\", \"you've\", \"you'll\", \"you'd\", 'your', 'yours', 'yourself', 'yourselves', 'he', 'him', 'his', 'himself', 'she', \"she's\", 'her', 'hers', 'herself', 'it', \"it's\", 'its', 'itself', 'they', 'them', 'their', 'theirs', 'themselves', 'what', 'which', 'who', 'whom', 'this', 'that', \"that'll\", 'these', 'those', 'am', 'is', 'are', 'was', 'were', 'be', 'been', 'being', 'have', 'has', 'had', 'having', 'do', 'does', 'did', 'doing', 'a', 'an', 'the', 'and', 'but', 'if', 'or', 'because', 'as', 'until', 'while', 'of', 'at', 'by', 'for', 'with', 'about', 'against', 'between', 'into', 'through', 'during', 'before', 'after', 'above', 'below', 'to', 'from', 'up', 'down', 'in', 'out', 'on', 'off', 'over', 'under', 'again', 'further', 'then', 'once', 'here', 'there', 'when', 'where', 'why', 'how', 'all', 'any', 'both', 'each', 'few', 'more', 'most', 'other', 'some', 'such', 'no', 'nor', 'not', 'only', 'own', 'same', 'so', 'than', 'too', 'very', 's', 't', 'can', 'will', 'just', 'don', \"don't\", 'should', \"should've\", 'now', 'd', 'll', 'm', 'o', 're', 've', 'y', 'ain', 'aren', \"aren't\", 'couldn', \"couldn't\", 'didn', \"didn't\", 'doesn', \"doesn't\", 'hadn', \"hadn't\", 'hasn', \"hasn't\", 'haven', \"haven't\", 'isn', \"isn't\", 'ma', 'mightn', \"mightn't\", 'mustn', \"mustn't\", 'needn', \"needn't\", 'shan', \"shan't\", 'shouldn', \"shouldn't\", 'wasn', \"wasn't\", 'weren', \"weren't\", 'won', \"won't\", 'wouldn', \"wouldn't\"]\n"
     ]
    }
   ],
   "source": [
    "print(stopwords.words('english'))"
   ]
  },
  {
   "cell_type": "code",
   "execution_count": 11,
   "id": "ec46168c",
   "metadata": {},
   "outputs": [
    {
     "name": "stdout",
     "output_type": "stream",
     "text": [
      "bonjour\n",
      "phrase\n",
      "exempl\n",
      "aussi\n",
      "nombr\n",
      "nombr\n",
      "nombr\n",
      "etc\n",
      "aussi\n",
      "beaucoup\n",
      "carctèr\n",
      "spéciaux\n"
     ]
    }
   ],
   "source": [
    "#stemming\n",
    "import nltk\n",
    "from nltk.stem.porter import PorterStemmer\n",
    "\n",
    "porter_stemmer  = PorterStemmer()\n",
    "for i in liste_mots_sans_stopwords:\n",
    "    print(porter_stemmer.stem(i))"
   ]
  },
  {
   "cell_type": "code",
   "execution_count": 14,
   "id": "3662c854",
   "metadata": {},
   "outputs": [
    {
     "name": "stdout",
     "output_type": "stream",
     "text": [
      "bonjour\n",
      "phrase\n",
      "exemple\n",
      "aussi\n",
      "nombre\n",
      "nombres\n",
      "nombres\n",
      "etc\n",
      "aussi\n",
      "beaucoup\n",
      "carctères\n",
      "spéciaux\n"
     ]
    }
   ],
   "source": [
    "#lemming\n",
    "import nltk\n",
    "#nltk.download('wordnet')\n",
    "from nltk.stem import WordNetLemmatizer\n",
    "wordnet_lemmatizer = WordNetLemmatizer()\n",
    "\n",
    "for i in liste_mots_sans_stopwords:\n",
    "    print(wordnet_lemmatizer.lemmatize(i))"
   ]
  },
  {
   "cell_type": "code",
   "execution_count": 99,
   "id": "cbe6ae23",
   "metadata": {},
   "outputs": [
    {
     "name": "stdout",
     "output_type": "stream",
     "text": [
      "uen 1\n",
      "nombres 2\n",
      "exemple 1\n",
      "etc 1\n",
      "phrase 1\n",
      "carctères 1\n",
      "beaucoup 1\n",
      "spéciaux 1\n",
      "bonjour 1\n",
      "aussi 2\n",
      "nombre 1\n"
     ]
    }
   ],
   "source": [
    "#compter la fréquence des mots\n",
    "for i in set(liste_mots_sans_stopwords):\n",
    "    print(i, liste_mots_sans_stopwords.count(i))  "
   ]
  },
  {
   "cell_type": "code",
   "execution_count": 100,
   "id": "b6708bcd",
   "metadata": {},
   "outputs": [
    {
     "data": {
      "text/plain": [
       "Counter({'bonjour': 1,\n",
       "         'uen': 1,\n",
       "         'phrase': 1,\n",
       "         'exemple': 1,\n",
       "         'aussi': 2,\n",
       "         'nombre': 1,\n",
       "         'nombres': 2,\n",
       "         'etc': 1,\n",
       "         'beaucoup': 1,\n",
       "         'carctères': 1,\n",
       "         'spéciaux': 1})"
      ]
     },
     "execution_count": 100,
     "metadata": {},
     "output_type": "execute_result"
    }
   ],
   "source": [
    "from collections import Counter\n",
    "counts = Counter(liste_mots_sans_stopwords)\n",
    "counts"
   ]
  },
  {
   "cell_type": "code",
   "execution_count": 104,
   "id": "a09a9033",
   "metadata": {},
   "outputs": [
    {
     "data": {
      "image/png": "[encoded data removed]",
      "text/plain": [
       "<Figure size 432x288 with 1 Axes>"
      ]
     },
     "metadata": {
      "needs_background": "light"
     },
     "output_type": "display_data"
    }
   ],
   "source": [
    "#wordclouds\n",
    "from wordcloud import WordCloud\n",
    "import matplotlib.pyplot as plt\n",
    "wordcloud = WordCloud().generate(phrase)\n",
    "\n",
    "plt.imshow(wordcloud, interpolation='bilinear')\n",
    "plt.axis(\"off\")\n",
    "plt.show()"
   ]
  },
  {
   "cell_type": "markdown",
   "id": "592b954d",
   "metadata": {},
   "source": [
    "**Exercice**: Quels sont les 20 mots les plus fréquents dans tous les tweets que nous avons ?"
   ]
  },
  {
   "cell_type": "markdown",
   "id": "9f8dc447",
   "metadata": {},
   "source": [
    "## Partie 4 - A vous de jouer ! "
   ]
  },
  {
   "cell_type": "markdown",
   "id": "4056aad6",
   "metadata": {},
   "source": [
    "**Grâce aux thèmes abordés aujourd'hui et dans les cours précédents, essayez d'extraire au moins 3 informations que vous considerez intéréssantes sur le dataset des tweets et accompagnez ces informations avec un graphique **"
   ]
  },
  {
   "cell_type": "code",
   "execution_count": null,
   "id": "dd20d66b",
   "metadata": {},
   "outputs": [],
   "source": [
    "#Votre code"
   ]
  }
 ],
 "metadata": {
  "kernelspec": {
   "display_name": "myenv",
   "language": "python",
   "name": "myenv"
  },
  "language_info": {
   "codemirror_mode": {
    "name": "ipython",
    "version": 3
   },
   "file_extension": ".py",
   "mimetype": "text/x-python",
   "name": "python",
   "nbconvert_exporter": "python",
   "pygments_lexer": "ipython3",
   "version": "3.7.10"
  }
 },
 "nbformat": 4,
 "nbformat_minor": 5
}

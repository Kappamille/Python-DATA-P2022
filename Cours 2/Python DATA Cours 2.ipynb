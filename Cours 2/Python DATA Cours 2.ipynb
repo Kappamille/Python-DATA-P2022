{
 "cells": [
  {
   "cell_type": "markdown",
   "id": "7b15dd44",
   "metadata": {},
   "source": [
    "# Cours 2 - Visualisation des donées (data visualisation, data viz)"
   ]
  },
  {
   "cell_type": "markdown",
   "id": "18ed0805",
   "metadata": {},
   "source": [
    "**Objectifs du cours:**\n",
    "- Savoir produire des graphiques simples de données catégoriques et numériques avec la librairie pandas\n",
    "- Connaître et appliquer les principes basiques de design pour une meilleure lecture de graphes\n",
    "- Connaître et eviter les biais prinicpaux dans la représentation de données "
   ]
  },
  {
   "cell_type": "markdown",
   "id": "0f6813e8",
   "metadata": {},
   "source": [
    "**Pourquoi est ce que la visualisation de donnés est importante ?**\n",
    "- Pour avoir des informations faciles à saisir \n",
    "- Pour explorer nos données y trouver des liens pertinents\n",
    "- Pour partager nos conclusions"
   ]
  },
  {
   "cell_type": "markdown",
   "id": "30167137",
   "metadata": {},
   "source": [
    "On va regarder comment réaliser des graphes avec pandas \n",
    "- la librairie `pandas`https://pandas.pydata.org/docs/reference/api/pandas.DataFrame.plot.html "
   ]
  },
  {
   "cell_type": "markdown",
   "id": "16787b51",
   "metadata": {},
   "source": [
    "Cependant sachez qu'il existe d'autres libraries pour effectuer de la data visualisation comme par exemple: `matplotlib`, `plotly`, `seaborn`, `ggplot`, ..."
   ]
  },
  {
   "cell_type": "code",
   "execution_count": 2,
   "id": "c1bfefac",
   "metadata": {},
   "outputs": [],
   "source": [
    "import pandas as pd"
   ]
  },
  {
   "cell_type": "code",
   "execution_count": 6,
   "id": "d80f7081",
   "metadata": {},
   "outputs": [],
   "source": [
    "titanic_dataset = pd.read_csv(\"train.csv\")"
   ]
  },
  {
   "cell_type": "code",
   "execution_count": 7,
   "id": "4c7c4691",
   "metadata": {},
   "outputs": [
    {
     "data": {
      "text/html": [
       "<div>\n",
       "<style scoped>\n",
       "    .dataframe tbody tr th:only-of-type {\n",
       "        vertical-align: middle;\n",
       "    }\n",
       "\n",
       "    .dataframe tbody tr th {\n",
       "        vertical-align: top;\n",
       "    }\n",
       "\n",
       "    .dataframe thead th {\n",
       "        text-align: right;\n",
       "    }\n",
       "</style>\n",
       "<table border=\"1\" class=\"dataframe\">\n",
       "  <thead>\n",
       "    <tr style=\"text-align: right;\">\n",
       "      <th></th>\n",
       "      <th>PassengerId</th>\n",
       "      <th>Survived</th>\n",
       "      <th>Pclass</th>\n",
       "      <th>Name</th>\n",
       "      <th>Sex</th>\n",
       "      <th>Age</th>\n",
       "      <th>SibSp</th>\n",
       "      <th>Parch</th>\n",
       "      <th>Ticket</th>\n",
       "      <th>Fare</th>\n",
       "      <th>Cabin</th>\n",
       "      <th>Embarked</th>\n",
       "    </tr>\n",
       "  </thead>\n",
       "  <tbody>\n",
       "    <tr>\n",
       "      <th>0</th>\n",
       "      <td>1</td>\n",
       "      <td>0</td>\n",
       "      <td>3</td>\n",
       "      <td>Braund, Mr. Owen Harris</td>\n",
       "      <td>male</td>\n",
       "      <td>22.0</td>\n",
       "      <td>1</td>\n",
       "      <td>0</td>\n",
       "      <td>A/5 21171</td>\n",
       "      <td>7.2500</td>\n",
       "      <td>NaN</td>\n",
       "      <td>S</td>\n",
       "    </tr>\n",
       "    <tr>\n",
       "      <th>1</th>\n",
       "      <td>2</td>\n",
       "      <td>1</td>\n",
       "      <td>1</td>\n",
       "      <td>Cumings, Mrs. John Bradley (Florence Briggs Th...</td>\n",
       "      <td>female</td>\n",
       "      <td>38.0</td>\n",
       "      <td>1</td>\n",
       "      <td>0</td>\n",
       "      <td>PC 17599</td>\n",
       "      <td>71.2833</td>\n",
       "      <td>C85</td>\n",
       "      <td>C</td>\n",
       "    </tr>\n",
       "    <tr>\n",
       "      <th>2</th>\n",
       "      <td>3</td>\n",
       "      <td>1</td>\n",
       "      <td>3</td>\n",
       "      <td>Heikkinen, Miss. Laina</td>\n",
       "      <td>female</td>\n",
       "      <td>26.0</td>\n",
       "      <td>0</td>\n",
       "      <td>0</td>\n",
       "      <td>STON/O2. 3101282</td>\n",
       "      <td>7.9250</td>\n",
       "      <td>NaN</td>\n",
       "      <td>S</td>\n",
       "    </tr>\n",
       "    <tr>\n",
       "      <th>3</th>\n",
       "      <td>4</td>\n",
       "      <td>1</td>\n",
       "      <td>1</td>\n",
       "      <td>Futrelle, Mrs. Jacques Heath (Lily May Peel)</td>\n",
       "      <td>female</td>\n",
       "      <td>35.0</td>\n",
       "      <td>1</td>\n",
       "      <td>0</td>\n",
       "      <td>113803</td>\n",
       "      <td>53.1000</td>\n",
       "      <td>C123</td>\n",
       "      <td>S</td>\n",
       "    </tr>\n",
       "    <tr>\n",
       "      <th>4</th>\n",
       "      <td>5</td>\n",
       "      <td>0</td>\n",
       "      <td>3</td>\n",
       "      <td>Allen, Mr. William Henry</td>\n",
       "      <td>male</td>\n",
       "      <td>35.0</td>\n",
       "      <td>0</td>\n",
       "      <td>0</td>\n",
       "      <td>373450</td>\n",
       "      <td>8.0500</td>\n",
       "      <td>NaN</td>\n",
       "      <td>S</td>\n",
       "    </tr>\n",
       "    <tr>\n",
       "      <th>...</th>\n",
       "      <td>...</td>\n",
       "      <td>...</td>\n",
       "      <td>...</td>\n",
       "      <td>...</td>\n",
       "      <td>...</td>\n",
       "      <td>...</td>\n",
       "      <td>...</td>\n",
       "      <td>...</td>\n",
       "      <td>...</td>\n",
       "      <td>...</td>\n",
       "      <td>...</td>\n",
       "      <td>...</td>\n",
       "    </tr>\n",
       "    <tr>\n",
       "      <th>886</th>\n",
       "      <td>887</td>\n",
       "      <td>0</td>\n",
       "      <td>2</td>\n",
       "      <td>Montvila, Rev. Juozas</td>\n",
       "      <td>male</td>\n",
       "      <td>27.0</td>\n",
       "      <td>0</td>\n",
       "      <td>0</td>\n",
       "      <td>211536</td>\n",
       "      <td>13.0000</td>\n",
       "      <td>NaN</td>\n",
       "      <td>S</td>\n",
       "    </tr>\n",
       "    <tr>\n",
       "      <th>887</th>\n",
       "      <td>888</td>\n",
       "      <td>1</td>\n",
       "      <td>1</td>\n",
       "      <td>Graham, Miss. Margaret Edith</td>\n",
       "      <td>female</td>\n",
       "      <td>19.0</td>\n",
       "      <td>0</td>\n",
       "      <td>0</td>\n",
       "      <td>112053</td>\n",
       "      <td>30.0000</td>\n",
       "      <td>B42</td>\n",
       "      <td>S</td>\n",
       "    </tr>\n",
       "    <tr>\n",
       "      <th>888</th>\n",
       "      <td>889</td>\n",
       "      <td>0</td>\n",
       "      <td>3</td>\n",
       "      <td>Johnston, Miss. Catherine Helen \"Carrie\"</td>\n",
       "      <td>female</td>\n",
       "      <td>NaN</td>\n",
       "      <td>1</td>\n",
       "      <td>2</td>\n",
       "      <td>W./C. 6607</td>\n",
       "      <td>23.4500</td>\n",
       "      <td>NaN</td>\n",
       "      <td>S</td>\n",
       "    </tr>\n",
       "    <tr>\n",
       "      <th>889</th>\n",
       "      <td>890</td>\n",
       "      <td>1</td>\n",
       "      <td>1</td>\n",
       "      <td>Behr, Mr. Karl Howell</td>\n",
       "      <td>male</td>\n",
       "      <td>26.0</td>\n",
       "      <td>0</td>\n",
       "      <td>0</td>\n",
       "      <td>111369</td>\n",
       "      <td>30.0000</td>\n",
       "      <td>C148</td>\n",
       "      <td>C</td>\n",
       "    </tr>\n",
       "    <tr>\n",
       "      <th>890</th>\n",
       "      <td>891</td>\n",
       "      <td>0</td>\n",
       "      <td>3</td>\n",
       "      <td>Dooley, Mr. Patrick</td>\n",
       "      <td>male</td>\n",
       "      <td>32.0</td>\n",
       "      <td>0</td>\n",
       "      <td>0</td>\n",
       "      <td>370376</td>\n",
       "      <td>7.7500</td>\n",
       "      <td>NaN</td>\n",
       "      <td>Q</td>\n",
       "    </tr>\n",
       "  </tbody>\n",
       "</table>\n",
       "<p>891 rows × 12 columns</p>\n",
       "</div>"
      ],
      "text/plain": [
       "     PassengerId  Survived  Pclass  \\\n",
       "0              1         0       3   \n",
       "1              2         1       1   \n",
       "2              3         1       3   \n",
       "3              4         1       1   \n",
       "4              5         0       3   \n",
       "..           ...       ...     ...   \n",
       "886          887         0       2   \n",
       "887          888         1       1   \n",
       "888          889         0       3   \n",
       "889          890         1       1   \n",
       "890          891         0       3   \n",
       "\n",
       "                                                  Name     Sex   Age  SibSp  \\\n",
       "0                              Braund, Mr. Owen Harris    male  22.0      1   \n",
       "1    Cumings, Mrs. John Bradley (Florence Briggs Th...  female  38.0      1   \n",
       "2                               Heikkinen, Miss. Laina  female  26.0      0   \n",
       "3         Futrelle, Mrs. Jacques Heath (Lily May Peel)  female  35.0      1   \n",
       "4                             Allen, Mr. William Henry    male  35.0      0   \n",
       "..                                                 ...     ...   ...    ...   \n",
       "886                              Montvila, Rev. Juozas    male  27.0      0   \n",
       "887                       Graham, Miss. Margaret Edith  female  19.0      0   \n",
       "888           Johnston, Miss. Catherine Helen \"Carrie\"  female   NaN      1   \n",
       "889                              Behr, Mr. Karl Howell    male  26.0      0   \n",
       "890                                Dooley, Mr. Patrick    male  32.0      0   \n",
       "\n",
       "     Parch            Ticket     Fare Cabin Embarked  \n",
       "0        0         A/5 21171   7.2500   NaN        S  \n",
       "1        0          PC 17599  71.2833   C85        C  \n",
       "2        0  STON/O2. 3101282   7.9250   NaN        S  \n",
       "3        0            113803  53.1000  C123        S  \n",
       "4        0            373450   8.0500   NaN        S  \n",
       "..     ...               ...      ...   ...      ...  \n",
       "886      0            211536  13.0000   NaN        S  \n",
       "887      0            112053  30.0000   B42        S  \n",
       "888      2        W./C. 6607  23.4500   NaN        S  \n",
       "889      0            111369  30.0000  C148        C  \n",
       "890      0            370376   7.7500   NaN        Q  \n",
       "\n",
       "[891 rows x 12 columns]"
      ]
     },
     "execution_count": 7,
     "metadata": {},
     "output_type": "execute_result"
    }
   ],
   "source": [
    "titanic_dataset"
   ]
  },
  {
   "cell_type": "markdown",
   "id": "341a4501",
   "metadata": {},
   "source": [
    "## Partie 1 - Afficher un graphe"
   ]
  },
  {
   "cell_type": "markdown",
   "id": "ce745128",
   "metadata": {},
   "source": [
    "### Afficher une donnée numérique avec une évolution - line graph"
   ]
  },
  {
   "cell_type": "code",
   "execution_count": 4,
   "id": "de2960db",
   "metadata": {},
   "outputs": [
    {
     "data": {
      "text/plain": [
       "<AxesSubplot:>"
      ]
     },
     "execution_count": 4,
     "metadata": {},
     "output_type": "execute_result"
    },
    {
     "data": {
      "image/png": "[encoded data removed]",
      "text/plain": [
       "<Figure size 432x288 with 1 Axes>"
      ]
     },
     "metadata": {
      "needs_background": "light"
     },
     "output_type": "display_data"
    }
   ],
   "source": [
    "df = pd.DataFrame({\n",
    "'pig': [20, 18, 489, 675, 1776],\n",
    "'horse': [4, 25, 281, 600, 1900]\n",
    "}, index=[1990, 1997, 2003, 2009, 2014])\n",
    "lines = df.plot.line()"
   ]
  },
  {
   "cell_type": "code",
   "execution_count": 8,
   "id": "74e5c25e",
   "metadata": {},
   "outputs": [
    {
     "data": {
      "text/plain": [
       "<AxesSubplot:>"
      ]
     },
     "execution_count": 8,
     "metadata": {},
     "output_type": "execute_result"
    },
    {
     "data": {
      "image/png": "[encoded data removed]",
      "text/plain": [
       "<Figure size 432x288 with 1 Axes>"
      ]
     },
     "metadata": {
      "needs_background": "light"
     },
     "output_type": "display_data"
    }
   ],
   "source": [
    "titanic_dataset.Age.plot.line()"
   ]
  },
  {
   "cell_type": "markdown",
   "id": "303c61b5",
   "metadata": {},
   "source": [
    "### Afficher une donnée numérique / ou numérique et catégorique - histogram"
   ]
  },
  {
   "cell_type": "markdown",
   "id": "0e5d092d",
   "metadata": {},
   "source": [
    "**Quelle est la répartition des l'age des passagers ?**"
   ]
  },
  {
   "cell_type": "code",
   "execution_count": 11,
   "id": "4e0ca4f5",
   "metadata": {},
   "outputs": [
    {
     "data": {
      "text/plain": [
       "<AxesSubplot:ylabel='Frequency'>"
      ]
     },
     "execution_count": 11,
     "metadata": {},
     "output_type": "execute_result"
    },
    {
     "data": {
      "image/png": "[encoded data removed]",
      "text/plain": [
       "<Figure size 432x288 with 1 Axes>"
      ]
     },
     "metadata": {
      "needs_background": "light"
     },
     "output_type": "display_data"
    }
   ],
   "source": [
    "titanic_dataset.Age.plot.hist()"
   ]
  },
  {
   "cell_type": "markdown",
   "id": "d3844ec3",
   "metadata": {},
   "source": [
    "### Afficher plusieurs données numériques - scatter plot"
   ]
  },
  {
   "cell_type": "markdown",
   "id": "d00e544e",
   "metadata": {},
   "source": [
    "**Quelle est la répartition du prix des tickets en fonction de l'age ?**"
   ]
  },
  {
   "cell_type": "code",
   "execution_count": 11,
   "id": "7e14e83a",
   "metadata": {},
   "outputs": [
    {
     "data": {
      "text/plain": [
       "<AxesSubplot:xlabel='Age', ylabel='Fare'>"
      ]
     },
     "execution_count": 11,
     "metadata": {},
     "output_type": "execute_result"
    },
    {
     "data": {
      "image/png": "[encoded data removed]",
      "text/plain": [
       "<Figure size 432x288 with 1 Axes>"
      ]
     },
     "metadata": {
      "needs_background": "light"
     },
     "output_type": "display_data"
    }
   ],
   "source": [
    "titanic_dataset.plot.scatter(x= 'Age', y='Fare')"
   ]
  },
  {
   "cell_type": "markdown",
   "id": "7874f0e8",
   "metadata": {},
   "source": [
    "### Afficher une donnée catégorique - bar plot"
   ]
  },
  {
   "cell_type": "markdown",
   "id": "62dad427",
   "metadata": {},
   "source": [
    "**Combien de passagers étaient présents dans chaque classe ?**"
   ]
  },
  {
   "cell_type": "code",
   "execution_count": 14,
   "id": "e0d062c6",
   "metadata": {},
   "outputs": [
    {
     "data": {
      "text/plain": [
       "<AxesSubplot:>"
      ]
     },
     "execution_count": 14,
     "metadata": {},
     "output_type": "execute_result"
    },
    {
     "data": {
      "image/png": "[encoded data removed]",
      "text/plain": [
       "<Figure size 432x288 with 1 Axes>"
      ]
     },
     "metadata": {
      "needs_background": "light"
     },
     "output_type": "display_data"
    }
   ],
   "source": [
    "titanic_dataset[\"Pclass\"].value_counts().plot.bar()"
   ]
  },
  {
   "cell_type": "markdown",
   "id": "6b0ccd43",
   "metadata": {},
   "source": [
    "### Afficher des donnés catégoriques et numériques - box plot"
   ]
  },
  {
   "cell_type": "markdown",
   "id": "6557314a",
   "metadata": {},
   "source": [
    "**Quelle est la répartition de l'age des passagers pour chaque classe ?**"
   ]
  },
  {
   "cell_type": "code",
   "execution_count": 173,
   "id": "60e18ed7",
   "metadata": {},
   "outputs": [
    {
     "data": {
      "text/plain": [
       "<AxesSubplot:title={'center':'Age'}, xlabel='Pclass'>"
      ]
     },
     "execution_count": 173,
     "metadata": {},
     "output_type": "execute_result"
    },
    {
     "data": {
      "image/png": "[encoded data removed]",
      "text/plain": [
       "<Figure size 432x288 with 1 Axes>"
      ]
     },
     "metadata": {
      "needs_background": "light"
     },
     "output_type": "display_data"
    }
   ],
   "source": [
    "titanic_dataset.boxplot(column='Age', by='Pclass')"
   ]
  },
  {
   "cell_type": "markdown",
   "id": "cbed9239",
   "metadata": {},
   "source": [
    "### Ajouter des légendes aux graphes"
   ]
  },
  {
   "cell_type": "code",
   "execution_count": 157,
   "id": "85cd3c44",
   "metadata": {},
   "outputs": [
    {
     "data": {
      "text/plain": [
       "<AxesSubplot:title={'center':'Number of passengers of the titanic for each class'}, xlabel='class', ylabel='people'>"
      ]
     },
     "execution_count": 157,
     "metadata": {},
     "output_type": "execute_result"
    },
    {
     "data": {
      "image/png": "[encoded data removed]",
      "text/plain": [
       "<Figure size 432x288 with 1 Axes>"
      ]
     },
     "metadata": {
      "needs_background": "light"
     },
     "output_type": "display_data"
    }
   ],
   "source": [
    "titanic_dataset[\"Pclass\"].value_counts().plot.bar(xlabel= \"class\", ylabel=\"people\", title=\"Number of passengers of the titanic for each class\")"
   ]
  },
  {
   "cell_type": "markdown",
   "id": "856684f0",
   "metadata": {},
   "source": [
    "### Autres customisations"
   ]
  },
  {
   "cell_type": "markdown",
   "id": "a1d1e575",
   "metadata": {},
   "source": [
    "Documentation: https://pandas.pydata.org/docs/reference/api/pandas.DataFrame.plot.html , https://pandas.pydata.org/docs/reference/api/pandas.DataFrame.plot.bar.html"
   ]
  },
  {
   "cell_type": "code",
   "execution_count": 161,
   "id": "237c3361",
   "metadata": {},
   "outputs": [
    {
     "data": {
      "text/plain": [
       "<AxesSubplot:title={'center':'Number of passengers of the titanic for each class'}, xlabel='class', ylabel='people'>"
      ]
     },
     "execution_count": 161,
     "metadata": {},
     "output_type": "execute_result"
    },
    {
     "data": {
      "image/png": "[encoded data removed]",
      "text/plain": [
       "<Figure size 432x288 with 1 Axes>"
      ]
     },
     "metadata": {
      "needs_background": "light"
     },
     "output_type": "display_data"
    }
   ],
   "source": [
    "titanic_dataset[\"Pclass\"].value_counts().plot.bar(xlabel= \"class\", ylabel=\"people\", title=\"Number of passengers of the titanic for each class\", color=[\"red\", \"green\", \"blue\"])"
   ]
  },
  {
   "cell_type": "markdown",
   "id": "ed74966b",
   "metadata": {},
   "source": [
    "**Exercices:** Essayez avec le dataset sur les AVC de la session précédente de réaliser:\n",
    "- au moins un graphe d'une variable numérique \n",
    "- au moins un graphe d'une variable catégorique\n",
    "- au moins un graphe d'une variable catégorique et numérique ensemble\n",
    "- au moins un graphe de deux variables numériques ensemble"
   ]
  },
  {
   "cell_type": "code",
   "execution_count": null,
   "id": "959c55fb",
   "metadata": {},
   "outputs": [],
   "source": [
    "#Votre code"
   ]
  },
  {
   "cell_type": "markdown",
   "id": "b1543fc1",
   "metadata": {},
   "source": [
    "## Partie 2 - Adapter le design pour aider la narrative "
   ]
  },
  {
   "cell_type": "markdown",
   "id": "5ce32697",
   "metadata": {},
   "source": [
    "### Graphe 1"
   ]
  },
  {
   "cell_type": "code",
   "execution_count": 159,
   "id": "cc1a5d5d",
   "metadata": {},
   "outputs": [
    {
     "data": {
      "text/plain": [
       "<AxesSubplot:xlabel='Pclass,Survived', ylabel='number of people'>"
      ]
     },
     "execution_count": 159,
     "metadata": {},
     "output_type": "execute_result"
    },
    {
     "data": {
      "image/png": "[encoded data removed]",
      "text/plain": [
       "<Figure size 432x288 with 1 Axes>"
      ]
     },
     "metadata": {
      "needs_background": "light"
     },
     "output_type": "display_data"
    }
   ],
   "source": [
    "titanic_dataset[[\"Pclass\", \"Survived\"]].value_counts().plot.bar(ylabel=\"number of people\")"
   ]
  },
  {
   "cell_type": "markdown",
   "id": "649725b5",
   "metadata": {},
   "source": [
    "### Graphe 2"
   ]
  },
  {
   "cell_type": "code",
   "execution_count": 176,
   "id": "57256530",
   "metadata": {},
   "outputs": [
    {
     "data": {
      "text/plain": [
       "<AxesSubplot:xlabel='class'>"
      ]
     },
     "execution_count": 176,
     "metadata": {},
     "output_type": "execute_result"
    },
    {
     "data": {
      "image/png": "[encoded data removed]",
      "text/plain": [
       "<Figure size 432x288 with 1 Axes>"
      ]
     },
     "metadata": {
      "needs_background": "light"
     },
     "output_type": "display_data"
    }
   ],
   "source": [
    "survived_class = titanic_dataset[titanic_dataset[\"Survived\"] == 1]['Pclass'].value_counts()\n",
    "not_survived_class = titanic_dataset[titanic_dataset[\"Survived\"] == 0]['Pclass'].value_counts()\n",
    "df = pd.DataFrame({\"survived\":survived_class, \"died\":not_survived_class})\n",
    "df.plot.bar(stacked=True, xlabel=\"class\")"
   ]
  },
  {
   "cell_type": "markdown",
   "id": "8b24f975",
   "metadata": {},
   "source": [
    "### Graphe 3"
   ]
  },
  {
   "cell_type": "code",
   "execution_count": 174,
   "id": "8ecc0539",
   "metadata": {},
   "outputs": [
    {
     "data": {
      "text/plain": [
       "<AxesSubplot:xlabel='class', ylabel='number of passengers'>"
      ]
     },
     "execution_count": 174,
     "metadata": {},
     "output_type": "execute_result"
    },
    {
     "data": {
      "image/png": "[encoded data removed]",
      "text/plain": [
       "<Figure size 432x288 with 1 Axes>"
      ]
     },
     "metadata": {
      "needs_background": "light"
     },
     "output_type": "display_data"
    }
   ],
   "source": [
    "df.plot.bar(ylabel=\"number of passengers\", xlabel=\"class\")"
   ]
  },
  {
   "cell_type": "markdown",
   "id": "96456fac",
   "metadata": {},
   "source": [
    "### Graphe 4"
   ]
  },
  {
   "cell_type": "code",
   "execution_count": 150,
   "id": "65f33d67",
   "metadata": {},
   "outputs": [
    {
     "data": {
      "text/plain": [
       "<AxesSubplot:>"
      ]
     },
     "execution_count": 150,
     "metadata": {},
     "output_type": "execute_result"
    },
    {
     "data": {
      "image/png": "[encoded data removed]",
      "text/plain": [
       "<Figure size 432x288 with 1 Axes>"
      ]
     },
     "metadata": {
      "needs_background": "light"
     },
     "output_type": "display_data"
    }
   ],
   "source": [
    "class1 = titanic_dataset[titanic_dataset[\"Pclass\"] == 1]['Survived'].value_counts()\n",
    "class2 = titanic_dataset[titanic_dataset[\"Pclass\"] == 2]['Survived'].value_counts()\n",
    "class3 = titanic_dataset[titanic_dataset[\"Pclass\"] == 3]['Survived'].value_counts()\n",
    "sub_df = pd.DataFrame({\"1\":class1, \"2\":class2, \"3\":class3})\n",
    "sub_df.plot.bar(stacked=True)"
   ]
  },
  {
   "cell_type": "markdown",
   "id": "9f99f91e",
   "metadata": {},
   "source": [
    "### Graphe 5"
   ]
  },
  {
   "cell_type": "code",
   "execution_count": 152,
   "id": "d9f68403",
   "metadata": {},
   "outputs": [
    {
     "data": {
      "text/plain": [
       "array([<AxesSubplot:ylabel='survived'>, <AxesSubplot:ylabel='died'>],\n",
       "      dtype=object)"
      ]
     },
     "execution_count": 152,
     "metadata": {},
     "output_type": "execute_result"
    },
    {
     "data": {
      "image/png": "[encoded data removed]",
      "text/plain": [
       "<Figure size 432x288 with 2 Axes>"
      ]
     },
     "metadata": {},
     "output_type": "display_data"
    }
   ],
   "source": [
    "df.plot.pie(subplots=True)"
   ]
  },
  {
   "cell_type": "markdown",
   "id": "e4189b53",
   "metadata": {},
   "source": [
    "**Exercice:** Regarder les graphes précédents et essayez de répondre aux questions suivantes:\n",
    "- A votre avis, à quelle question est ce que ces graphes essayent de répondre ? \n",
    "- A votre avis, quel serait le meilleur graphe pour répondre à cette question ? Pourquoi ? "
   ]
  },
  {
   "cell_type": "markdown",
   "id": "6059d3a9",
   "metadata": {},
   "source": [
    "-> le choix du graphe doit être informé principalement par \"Qu'est ce que vous essayez de montrer ?\", ensuite les éléments tels que le choix du graphe, les choix de couleurs, la taille et la position des éléments ainsi que les légendes doivent tous aider à la compréhension la plus simple du graphe. "
   ]
  },
  {
   "cell_type": "code",
   "execution_count": null,
   "id": "481dec6b",
   "metadata": {},
   "outputs": [],
   "source": [
    "# evidemment ce n'est pas une liste exhaustive, plein de facteurs peuvent jouer"
   ]
  },
  {
   "cell_type": "markdown",
   "id": "de75e70e",
   "metadata": {},
   "source": [
    "## Partie 3 - Biais et éthique dans la data visualisation"
   ]
  },
  {
   "cell_type": "markdown",
   "id": "02e10c3c",
   "metadata": {},
   "source": [
    "Maintenant je vous invite à lire les 2 articles suivants ainsi que de reagarder la vidéo qui expliquent les bais que l'on peut trouver dans la visalusation de données:\n",
    "- https://towardsdatascience.com/5-ways-data-visualizations-can-lie-46e54f41de37\n",
    "- https://venngage.com/blog/misleading-graphs/\n",
    "- https://www.youtube.com/watch?v=E91bGT9BjYk"
   ]
  },
  {
   "cell_type": "markdown",
   "id": "30ae636f",
   "metadata": {},
   "source": [
    "**Question:**\n",
    "- Est ce qu'il y a une information/un exemple qui vous a particulièrement marqué ?\n",
    "- Est ce que vous vous rappellez avoir déjà été confronté à une mauvaise visualisation de donnés dans les médias/ dans une entreprise ?"
   ]
  },
  {
   "cell_type": "markdown",
   "id": "38cc5fc9",
   "metadata": {},
   "source": [
    "Ressources pour aller plus loin: \n",
    "- https://www.eea.europa.eu/data-and-maps/daviz/learn-more/chart-dos-and-donts\n",
    "- https://mschermann.github.io/data_viz_reader/introduction.html"
   ]
  },
  {
   "cell_type": "markdown",
   "id": "a30db374",
   "metadata": {},
   "source": [
    "### Partie 4 - A vous de jouer ! "
   ]
  },
  {
   "cell_type": "markdown",
   "id": "1221d8b7",
   "metadata": {},
   "source": [
    "Maintenant que vous avez les bases de la data visualisation, à vous de jouer ! Essayer de transformer en graphique les 3 insights que vous avez trouvés sur le data set AVC à la session précédente. Au bout d'un certain temps vous présentrez vos graphiques à un camarade. Le but du jeu sera que votre camarade arrive à deviner l'insight que vous souhaitez transmettre uniquement par votre graphique. Essayez d'éviter les biais dans vos représen"
   ]
  },
  {
   "cell_type": "code",
   "execution_count": 177,
   "id": "6b09fdc0",
   "metadata": {},
   "outputs": [],
   "source": [
    "#Votre code"
   ]
  }
 ],
 "metadata": {
  "kernelspec": {
   "display_name": "myenv",
   "language": "python",
   "name": "myenv"
  },
  "language_info": {
   "codemirror_mode": {
    "name": "ipython",
    "version": 3
   },
   "file_extension": ".py",
   "mimetype": "text/x-python",
   "name": "python",
   "nbconvert_exporter": "python",
   "pygments_lexer": "ipython3",
   "version": "3.7.10"
  }
 },
 "nbformat": 4,
 "nbformat_minor": 5
}

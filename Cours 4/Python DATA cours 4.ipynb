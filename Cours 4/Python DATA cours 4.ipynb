{
 "cells": [
  {
   "cell_type": "markdown",
   "id": "947a53e4",
   "metadata": {},
   "source": [
    "# Introduction aux statistiques"
   ]
  },
  {
   "cell_type": "markdown",
   "id": "40140b76",
   "metadata": {},
   "source": [
    "Objectifs du cours:\n",
    "- Connaitre les prinicipaux concepts statistiques (probabilités, satistiques descriptives, statistiques prédictives)\n",
    "- Appliquer les prinicipaux concepts statistiques de base à un dataset\n",
    "- Connaitre les principaux bias liés aux statistiques\n",
    "- Demontrer un regard critiques sur résultats de. statistiques"
   ]
  },
  {
   "cell_type": "markdown",
   "id": "29c832c7",
   "metadata": {},
   "source": [
    "## Partie 0 - Charger le dataset"
   ]
  },
  {
   "cell_type": "code",
   "execution_count": 2,
   "id": "229e5a3d",
   "metadata": {},
   "outputs": [],
   "source": [
    "import pandas as pd"
   ]
  },
  {
   "cell_type": "code",
   "execution_count": 3,
   "id": "6490ca94",
   "metadata": {},
   "outputs": [
    {
     "data": {
      "text/html": [
       "<div>\n",
       "<style scoped>\n",
       "    .dataframe tbody tr th:only-of-type {\n",
       "        vertical-align: middle;\n",
       "    }\n",
       "\n",
       "    .dataframe tbody tr th {\n",
       "        vertical-align: top;\n",
       "    }\n",
       "\n",
       "    .dataframe thead th {\n",
       "        text-align: right;\n",
       "    }\n",
       "</style>\n",
       "<table border=\"1\" class=\"dataframe\">\n",
       "  <thead>\n",
       "    <tr style=\"text-align: right;\">\n",
       "      <th></th>\n",
       "      <th>PassengerId</th>\n",
       "      <th>Survived</th>\n",
       "      <th>Pclass</th>\n",
       "      <th>Name</th>\n",
       "      <th>Sex</th>\n",
       "      <th>Age</th>\n",
       "      <th>SibSp</th>\n",
       "      <th>Parch</th>\n",
       "      <th>Ticket</th>\n",
       "      <th>Fare</th>\n",
       "      <th>Cabin</th>\n",
       "      <th>Embarked</th>\n",
       "    </tr>\n",
       "  </thead>\n",
       "  <tbody>\n",
       "    <tr>\n",
       "      <th>0</th>\n",
       "      <td>1</td>\n",
       "      <td>0</td>\n",
       "      <td>3</td>\n",
       "      <td>Braund, Mr. Owen Harris</td>\n",
       "      <td>male</td>\n",
       "      <td>22.0</td>\n",
       "      <td>1</td>\n",
       "      <td>0</td>\n",
       "      <td>A/5 21171</td>\n",
       "      <td>7.2500</td>\n",
       "      <td>NaN</td>\n",
       "      <td>S</td>\n",
       "    </tr>\n",
       "    <tr>\n",
       "      <th>1</th>\n",
       "      <td>2</td>\n",
       "      <td>1</td>\n",
       "      <td>1</td>\n",
       "      <td>Cumings, Mrs. John Bradley (Florence Briggs Th...</td>\n",
       "      <td>female</td>\n",
       "      <td>38.0</td>\n",
       "      <td>1</td>\n",
       "      <td>0</td>\n",
       "      <td>PC 17599</td>\n",
       "      <td>71.2833</td>\n",
       "      <td>C85</td>\n",
       "      <td>C</td>\n",
       "    </tr>\n",
       "    <tr>\n",
       "      <th>2</th>\n",
       "      <td>3</td>\n",
       "      <td>1</td>\n",
       "      <td>3</td>\n",
       "      <td>Heikkinen, Miss. Laina</td>\n",
       "      <td>female</td>\n",
       "      <td>26.0</td>\n",
       "      <td>0</td>\n",
       "      <td>0</td>\n",
       "      <td>STON/O2. 3101282</td>\n",
       "      <td>7.9250</td>\n",
       "      <td>NaN</td>\n",
       "      <td>S</td>\n",
       "    </tr>\n",
       "    <tr>\n",
       "      <th>3</th>\n",
       "      <td>4</td>\n",
       "      <td>1</td>\n",
       "      <td>1</td>\n",
       "      <td>Futrelle, Mrs. Jacques Heath (Lily May Peel)</td>\n",
       "      <td>female</td>\n",
       "      <td>35.0</td>\n",
       "      <td>1</td>\n",
       "      <td>0</td>\n",
       "      <td>113803</td>\n",
       "      <td>53.1000</td>\n",
       "      <td>C123</td>\n",
       "      <td>S</td>\n",
       "    </tr>\n",
       "    <tr>\n",
       "      <th>4</th>\n",
       "      <td>5</td>\n",
       "      <td>0</td>\n",
       "      <td>3</td>\n",
       "      <td>Allen, Mr. William Henry</td>\n",
       "      <td>male</td>\n",
       "      <td>35.0</td>\n",
       "      <td>0</td>\n",
       "      <td>0</td>\n",
       "      <td>373450</td>\n",
       "      <td>8.0500</td>\n",
       "      <td>NaN</td>\n",
       "      <td>S</td>\n",
       "    </tr>\n",
       "    <tr>\n",
       "      <th>...</th>\n",
       "      <td>...</td>\n",
       "      <td>...</td>\n",
       "      <td>...</td>\n",
       "      <td>...</td>\n",
       "      <td>...</td>\n",
       "      <td>...</td>\n",
       "      <td>...</td>\n",
       "      <td>...</td>\n",
       "      <td>...</td>\n",
       "      <td>...</td>\n",
       "      <td>...</td>\n",
       "      <td>...</td>\n",
       "    </tr>\n",
       "    <tr>\n",
       "      <th>886</th>\n",
       "      <td>887</td>\n",
       "      <td>0</td>\n",
       "      <td>2</td>\n",
       "      <td>Montvila, Rev. Juozas</td>\n",
       "      <td>male</td>\n",
       "      <td>27.0</td>\n",
       "      <td>0</td>\n",
       "      <td>0</td>\n",
       "      <td>211536</td>\n",
       "      <td>13.0000</td>\n",
       "      <td>NaN</td>\n",
       "      <td>S</td>\n",
       "    </tr>\n",
       "    <tr>\n",
       "      <th>887</th>\n",
       "      <td>888</td>\n",
       "      <td>1</td>\n",
       "      <td>1</td>\n",
       "      <td>Graham, Miss. Margaret Edith</td>\n",
       "      <td>female</td>\n",
       "      <td>19.0</td>\n",
       "      <td>0</td>\n",
       "      <td>0</td>\n",
       "      <td>112053</td>\n",
       "      <td>30.0000</td>\n",
       "      <td>B42</td>\n",
       "      <td>S</td>\n",
       "    </tr>\n",
       "    <tr>\n",
       "      <th>888</th>\n",
       "      <td>889</td>\n",
       "      <td>0</td>\n",
       "      <td>3</td>\n",
       "      <td>Johnston, Miss. Catherine Helen \"Carrie\"</td>\n",
       "      <td>female</td>\n",
       "      <td>NaN</td>\n",
       "      <td>1</td>\n",
       "      <td>2</td>\n",
       "      <td>W./C. 6607</td>\n",
       "      <td>23.4500</td>\n",
       "      <td>NaN</td>\n",
       "      <td>S</td>\n",
       "    </tr>\n",
       "    <tr>\n",
       "      <th>889</th>\n",
       "      <td>890</td>\n",
       "      <td>1</td>\n",
       "      <td>1</td>\n",
       "      <td>Behr, Mr. Karl Howell</td>\n",
       "      <td>male</td>\n",
       "      <td>26.0</td>\n",
       "      <td>0</td>\n",
       "      <td>0</td>\n",
       "      <td>111369</td>\n",
       "      <td>30.0000</td>\n",
       "      <td>C148</td>\n",
       "      <td>C</td>\n",
       "    </tr>\n",
       "    <tr>\n",
       "      <th>890</th>\n",
       "      <td>891</td>\n",
       "      <td>0</td>\n",
       "      <td>3</td>\n",
       "      <td>Dooley, Mr. Patrick</td>\n",
       "      <td>male</td>\n",
       "      <td>32.0</td>\n",
       "      <td>0</td>\n",
       "      <td>0</td>\n",
       "      <td>370376</td>\n",
       "      <td>7.7500</td>\n",
       "      <td>NaN</td>\n",
       "      <td>Q</td>\n",
       "    </tr>\n",
       "  </tbody>\n",
       "</table>\n",
       "<p>891 rows × 12 columns</p>\n",
       "</div>"
      ],
      "text/plain": [
       "     PassengerId  Survived  Pclass  \\\n",
       "0              1         0       3   \n",
       "1              2         1       1   \n",
       "2              3         1       3   \n",
       "3              4         1       1   \n",
       "4              5         0       3   \n",
       "..           ...       ...     ...   \n",
       "886          887         0       2   \n",
       "887          888         1       1   \n",
       "888          889         0       3   \n",
       "889          890         1       1   \n",
       "890          891         0       3   \n",
       "\n",
       "                                                  Name     Sex   Age  SibSp  \\\n",
       "0                              Braund, Mr. Owen Harris    male  22.0      1   \n",
       "1    Cumings, Mrs. John Bradley (Florence Briggs Th...  female  38.0      1   \n",
       "2                               Heikkinen, Miss. Laina  female  26.0      0   \n",
       "3         Futrelle, Mrs. Jacques Heath (Lily May Peel)  female  35.0      1   \n",
       "4                             Allen, Mr. William Henry    male  35.0      0   \n",
       "..                                                 ...     ...   ...    ...   \n",
       "886                              Montvila, Rev. Juozas    male  27.0      0   \n",
       "887                       Graham, Miss. Margaret Edith  female  19.0      0   \n",
       "888           Johnston, Miss. Catherine Helen \"Carrie\"  female   NaN      1   \n",
       "889                              Behr, Mr. Karl Howell    male  26.0      0   \n",
       "890                                Dooley, Mr. Patrick    male  32.0      0   \n",
       "\n",
       "     Parch            Ticket     Fare Cabin Embarked  \n",
       "0        0         A/5 21171   7.2500   NaN        S  \n",
       "1        0          PC 17599  71.2833   C85        C  \n",
       "2        0  STON/O2. 3101282   7.9250   NaN        S  \n",
       "3        0            113803  53.1000  C123        S  \n",
       "4        0            373450   8.0500   NaN        S  \n",
       "..     ...               ...      ...   ...      ...  \n",
       "886      0            211536  13.0000   NaN        S  \n",
       "887      0            112053  30.0000   B42        S  \n",
       "888      2        W./C. 6607  23.4500   NaN        S  \n",
       "889      0            111369  30.0000  C148        C  \n",
       "890      0            370376   7.7500   NaN        Q  \n",
       "\n",
       "[891 rows x 12 columns]"
      ]
     },
     "execution_count": 3,
     "metadata": {},
     "output_type": "execute_result"
    }
   ],
   "source": [
    "titanic_dataset = pd.read_csv(\"train.csv\")\n",
    "titanic_dataset"
   ]
  },
  {
   "cell_type": "markdown",
   "id": "f0652081",
   "metadata": {},
   "source": [
    "## Partie 1 - Exemples"
   ]
  },
  {
   "cell_type": "markdown",
   "id": "6a68d836",
   "metadata": {},
   "source": [
    "### Probabilités"
   ]
  },
  {
   "cell_type": "markdown",
   "id": "82d67f64",
   "metadata": {},
   "source": [
    "La **probabilité** est la mesure de la possibilité qu'un événement se produise dans une expérience aléatoire."
   ]
  },
  {
   "cell_type": "markdown",
   "id": "83d7a4cf",
   "metadata": {},
   "source": [
    "Mais qu'est ce qu'une **expérience aléatoire** ? "
   ]
  },
  {
   "cell_type": "markdown",
   "id": "87176618",
   "metadata": {},
   "source": [
    "Une expérience aléatoire est une expérience dont on ne peut pas prévoir le résultat de façon certaine."
   ]
  },
  {
   "cell_type": "markdown",
   "id": "b7f034dd",
   "metadata": {},
   "source": [
    "On considère donc que le naufrage du Titanic est une expérience aléatoire. "
   ]
  },
  {
   "cell_type": "markdown",
   "id": "6d83159f",
   "metadata": {},
   "source": [
    "La probabilité d'un événement peut donc se mesurer comme le nombre d'issues favorables divisé par le nombre total d'issues possibles."
   ]
  },
  {
   "cell_type": "markdown",
   "id": "9e958595",
   "metadata": {},
   "source": [
    "La probabilité de survivre le titanic est donc: le nombre de survivants / le nombre total de personnes à bord. Soit P(Survivre):"
   ]
  },
  {
   "cell_type": "code",
   "execution_count": 19,
   "id": "c0996252",
   "metadata": {},
   "outputs": [
    {
     "data": {
      "text/plain": [
       "0.3838383838383838"
      ]
     },
     "execution_count": 19,
     "metadata": {},
     "output_type": "execute_result"
    }
   ],
   "source": [
    "p_survived = titanic_dataset[\"Survived\"].value_counts()[1]/titanic_dataset[\"Survived\"].count()\n",
    "p_survived"
   ]
  },
  {
   "cell_type": "markdown",
   "id": "b85c55c3",
   "metadata": {},
   "source": [
    "La probabilité d'être une femme, P(Femme), est: "
   ]
  },
  {
   "cell_type": "code",
   "execution_count": 32,
   "id": "c2b05b04",
   "metadata": {},
   "outputs": [
    {
     "data": {
      "text/plain": [
       "0.35241301907968575"
      ]
     },
     "execution_count": 32,
     "metadata": {},
     "output_type": "execute_result"
    }
   ],
   "source": [
    "p_woman= titanic_dataset[titanic_dataset[\"Sex\"]==\"female\"][\"Sex\"].count()/titanic_dataset[\"Sex\"].count()\n",
    "p_woman"
   ]
  },
  {
   "cell_type": "markdown",
   "id": "1c1ecf8a",
   "metadata": {},
   "source": [
    "La probabilité d'être une femme **et** de survivre est, P(survivre ∩ Femme):  "
   ]
  },
  {
   "cell_type": "code",
   "execution_count": 45,
   "id": "02ab2c08",
   "metadata": {},
   "outputs": [
    {
     "data": {
      "text/plain": [
       "0.2615039281705948"
      ]
     },
     "execution_count": 45,
     "metadata": {},
     "output_type": "execute_result"
    }
   ],
   "source": [
    "p_woman_and_survived = len(titanic_dataset[(titanic_dataset[\"Sex\"]==\"female\") &(titanic_dataset[\"Survived\"]==1)])/len(titanic_dataset)\n",
    "p_woman_and_survived"
   ]
  },
  {
   "cell_type": "markdown",
   "id": "1d99a63d",
   "metadata": {},
   "source": [
    "La **probabilité conditionelle** est une mesure de la probabilité qu'un événement se produise, avec une certaine relation, avec un ou plusieurs autres événements. "
   ]
  },
  {
   "cell_type": "markdown",
   "id": "dbbae010",
   "metadata": {},
   "source": [
    "Par exemple la probabilité de survivre le titantic sachant qu'on est une femme est:P(survivre | Femme) = P(survivre ∩ Femme) / P(Femme). Soit:  "
   ]
  },
  {
   "cell_type": "code",
   "execution_count": 50,
   "id": "91278fe8",
   "metadata": {},
   "outputs": [
    {
     "data": {
      "text/plain": [
       "0.7420382165605095"
      ]
     },
     "execution_count": 50,
     "metadata": {},
     "output_type": "execute_result"
    }
   ],
   "source": [
    "p_survied_knowing_woman = p_woman_and_survived / p_woman\n",
    "p_survied_knowing_woman"
   ]
  },
  {
   "cell_type": "markdown",
   "id": "1314a734",
   "metadata": {},
   "source": [
    "Et la probabilté d'être une femme sachant qu'on a survecu le titanic est: P(Femme | Survivre) = P(Survivre ∩ Femme) / P(Survivre). Soit:   "
   ]
  },
  {
   "cell_type": "code",
   "execution_count": 51,
   "id": "02616dd9",
   "metadata": {},
   "outputs": [
    {
     "data": {
      "text/plain": [
       "0.6812865497076023"
      ]
     },
     "execution_count": 51,
     "metadata": {},
     "output_type": "execute_result"
    }
   ],
   "source": [
    "p_woman_knowing_survived = p_woman_and_survived / p_survived\n",
    "p_woman_knowing_survived"
   ]
  },
  {
   "cell_type": "markdown",
   "id": "28032ee2",
   "metadata": {},
   "source": [
    "Il est également important de comprendre la notion d'évenements indépendants ainsi que la notions d'évènements exclusifs. \n"
   ]
  },
  {
   "cell_type": "markdown",
   "id": "d596e205",
   "metadata": {},
   "source": [
    "Deux événements sont **indépendants** si l'occurrence de l'un n'affecte pas la probabilité d'occurrence de l'autre. Cela implique que P(A∩B)=P(A)P(B), P(A|B)=P(A) et P(B|A)=P(B) "
   ]
  },
  {
   "cell_type": "markdown",
   "id": "0bf30131",
   "metadata": {},
   "source": [
    "Deux événements sont mutuellement **exclusifs** s'ils ne peuvent pas se produire tous les deux en même temps. P(A∩B)=0 et P(A∪B)=P(A)+P(B)."
   ]
  },
  {
   "cell_type": "markdown",
   "id": "5ffbfe83",
   "metadata": {},
   "source": [
    "**Exercice**:\n",
    "- Est ce que l'évenement être une femme ainsi que l'évènement survivre sont indépendants dans l'expérience du titanic ?\n",
    "- Est ce que l'évenement être une femme ainsi que l'évènement survivre sont exclusifs dans l'expérience du titanic ?\n",
    "- Quelle est la probabilité d'être un homme ? \n",
    "- Quelle est la probabilité de mourrir ? \n",
    "- Quelle est la probabilité de mourrir  sachant que nous somme un homme ?\n",
    "- Quelle est la probabilité d'être une femme sachant que nous voyagons en 1e classe ? \n",
    "- Quelle est la probabilité d'avoir été en 3e classe sachant que nous sommes n'avons pas survécu? "
   ]
  },
  {
   "cell_type": "markdown",
   "id": "8e2973e5",
   "metadata": {},
   "source": [
    "### Statistiques descriptives"
   ]
  },
  {
   "cell_type": "markdown",
   "id": "92242a54",
   "metadata": {},
   "source": [
    "Un échantillon N'EST PAS EGAL à la population !"
   ]
  },
  {
   "cell_type": "markdown",
   "id": "ef21ffa7",
   "metadata": {},
   "source": [
    "<img src=\"pop.png\" alt=\"Drawing\" style=\"width: 400px;\"/>"
   ]
  },
  {
   "cell_type": "markdown",
   "id": "75562d91",
   "metadata": {},
   "source": [
    "**Moyenne** : La moyenne de l'ensemble des données.  \n",
    "**Médiane** : La valeur moyenne d'un ensemble de données ordonnées.  \n",
    "**Mode** : La valeur la plus fréquente dans l'ensemble de données."
   ]
  },
  {
   "cell_type": "markdown",
   "id": "fe4371ac",
   "metadata": {},
   "source": [
    "![title](median.png)"
   ]
  },
  {
   "cell_type": "code",
   "execution_count": 59,
   "id": "b186c058",
   "metadata": {},
   "outputs": [
    {
     "data": {
      "text/plain": [
       "29.69911764705882"
      ]
     },
     "execution_count": 59,
     "metadata": {},
     "output_type": "execute_result"
    }
   ],
   "source": [
    "titanic_dataset[\"Age\"].mean()"
   ]
  },
  {
   "cell_type": "code",
   "execution_count": 60,
   "id": "1a9be7a3",
   "metadata": {},
   "outputs": [
    {
     "data": {
      "text/plain": [
       "28.0"
      ]
     },
     "execution_count": 60,
     "metadata": {},
     "output_type": "execute_result"
    }
   ],
   "source": [
    "titanic_dataset[\"Age\"].median()"
   ]
  },
  {
   "cell_type": "code",
   "execution_count": 61,
   "id": "f86ceb8f",
   "metadata": {},
   "outputs": [
    {
     "data": {
      "text/plain": [
       "0    24.0\n",
       "dtype: float64"
      ]
     },
     "execution_count": 61,
     "metadata": {},
     "output_type": "execute_result"
    }
   ],
   "source": [
    "titanic_dataset[\"Age\"].mode()"
   ]
  },
  {
   "cell_type": "markdown",
   "id": "cecdde3a",
   "metadata": {},
   "source": [
    "**Plage:** La différence entre la valeur la plus élevée et la plus basse de l'ensemble de données.  \n",
    "**Percentiles:** Une mesure qui indique la valeur en dessous de laquelle se situe un pourcentage donné d'observations dans un groupe d'observations.  \n",
    "**Quantiles:** Valeurs qui divisent le nombre de points de données en quatre parties plus ou moins égales, ou quarts.  \n",
    "**Intervalle interquartile (IQR):** Mesure de la dispersion et de la variabilité statistiques basée sur la division d'un ensemble de données en quartiles. IQR = Q3-Q1  \n",
    "**Variance:** La différence moyenne au carré des valeurs par rapport à la moyenne pour mesurer la dispersion d'un ensemble de données par rapport à la moyenne.  \n",
    "**Écart-type:** La différence standard entre chaque point de données et la moyenne et la racine carrée de la variance.  \n",
    "**Valeur aberante** (*Outlier*): Une valeur aberrante est une observation qui se situe à une distance anormale des autres valeurs dans un échantillon aléatoire d'une population. Nous considérons qu'une valeur est abbérante si elle est plus petite que  Q1 - 1.5 IQR ou plus grande que Q3 + 1.5IQR   "
   ]
  },
  {
   "cell_type": "markdown",
   "id": "a7485698",
   "metadata": {},
   "source": [
    "![title](boxplot.png)"
   ]
  },
  {
   "cell_type": "code",
   "execution_count": 72,
   "id": "79c8d018",
   "metadata": {},
   "outputs": [
    {
     "name": "stdout",
     "output_type": "stream",
     "text": [
      "Plage:  79.58\n"
     ]
    }
   ],
   "source": [
    "print(\"Plage: \", titanic_dataset[\"Age\"].max()- titanic_dataset[\"Age\"].min())"
   ]
  },
  {
   "cell_type": "code",
   "execution_count": 87,
   "id": "e4523ee8",
   "metadata": {},
   "outputs": [
    {
     "name": "stdout",
     "output_type": "stream",
     "text": [
      "Percentile: 14.0\n"
     ]
    }
   ],
   "source": [
    "print(\"Percentile:\",titanic_dataset[\"Age\"].quantile(0.1))"
   ]
  },
  {
   "cell_type": "code",
   "execution_count": 88,
   "id": "609bc3af",
   "metadata": {},
   "outputs": [
    {
     "name": "stdout",
     "output_type": "stream",
     "text": [
      "Quantile 1: 20.125\n",
      "Quantile 2: 28.0\n",
      "Quantile 3: 38.0\n"
     ]
    }
   ],
   "source": [
    "print(\"Quantile 1:\",titanic_dataset[\"Age\"].quantile(0.25))\n",
    "print(\"Quantile 2:\",titanic_dataset[\"Age\"].quantile(0.5))\n",
    "print(\"Quantile 3:\",titanic_dataset[\"Age\"].quantile(0.75))"
   ]
  },
  {
   "cell_type": "code",
   "execution_count": 89,
   "id": "bd6ca49d",
   "metadata": {},
   "outputs": [
    {
     "name": "stdout",
     "output_type": "stream",
     "text": [
      "Intervalle interquartile (IQR):  17.875\n"
     ]
    }
   ],
   "source": [
    "print(\"Intervalle interquartile (IQR): \", titanic_dataset[\"Age\"].quantile(0.75) - titanic_dataset[\"Age\"].quantile(0.25))"
   ]
  },
  {
   "cell_type": "code",
   "execution_count": 90,
   "id": "71f4b092",
   "metadata": {},
   "outputs": [
    {
     "name": "stdout",
     "output_type": "stream",
     "text": [
      "variance: 211.01912474630802\n"
     ]
    }
   ],
   "source": [
    "print(\"Variance:\", titanic_dataset[\"Age\"].var())"
   ]
  },
  {
   "cell_type": "code",
   "execution_count": 94,
   "id": "a6b17248",
   "metadata": {},
   "outputs": [
    {
     "name": "stdout",
     "output_type": "stream",
     "text": [
      "Écart-type: 14.526497332334042\n"
     ]
    }
   ],
   "source": [
    "print(\"Écart-type:\", titanic_dataset[\"Age\"].std())"
   ]
  },
  {
   "cell_type": "code",
   "execution_count": 93,
   "id": "abb928ec",
   "metadata": {},
   "outputs": [
    {
     "data": {
      "text/plain": [
       "<AxesSubplot:>"
      ]
     },
     "execution_count": 93,
     "metadata": {},
     "output_type": "execute_result"
    },
    {
     "data": {
      "image/png": "[encoded data removed]",
      "text/plain": [
       "<Figure size 432x288 with 1 Axes>"
      ]
     },
     "metadata": {
      "needs_background": "light"
     },
     "output_type": "display_data"
    }
   ],
   "source": [
    "titanic_dataset.boxplot(column='Age')"
   ]
  },
  {
   "cell_type": "markdown",
   "id": "5ff411d4",
   "metadata": {},
   "source": [
    "**Distribution normale/gaussienne** : La courbe de la distribution est en forme de cloche et symétrique. "
   ]
  },
  {
   "cell_type": "markdown",
   "id": "f293b715",
   "metadata": {},
   "source": [
    "![title](normal.png)"
   ]
  },
  {
   "cell_type": "code",
   "execution_count": 96,
   "id": "6e82410b",
   "metadata": {},
   "outputs": [
    {
     "data": {
      "text/plain": [
       "<AxesSubplot:ylabel='Frequency'>"
      ]
     },
     "execution_count": 96,
     "metadata": {},
     "output_type": "execute_result"
    },
    {
     "data": {
      "image/png": "[encoded data removed]",
      "text/plain": [
       "<Figure size 432x288 with 1 Axes>"
      ]
     },
     "metadata": {
      "needs_background": "light"
     },
     "output_type": "display_data"
    }
   ],
   "source": [
    "titanic_dataset.Age.plot.hist(bins=8)"
   ]
  },
  {
   "cell_type": "markdown",
   "id": "185b1dce",
   "metadata": {},
   "source": [
    "**Exercices:**\n",
    "- Quelles sont la moyenne, la médiane, la mode des prix du ticket du titanic ?\n",
    "- Quelle est la plage, Q1, Q2, Q3, IQR et l'écart type des prix du ticket du titanic ?\n",
    "- Y a t'il des valeur aberrantes dans les prix du ticket du titanic ? Combien ? Avez vous une explication pour ces valeurs abérrantes ?\n",
    "- Affichez un boxplot des prix du ticket du titanic ?\n",
    "- Est ce que les prix du ticket suivent une distribution normale ?\n",
    "- Grâce à vos propres recherches déterminez si l'echantillon du titanic est représentative de la population britsih de l'époque ?"
   ]
  },
  {
   "cell_type": "code",
   "execution_count": null,
   "id": "0f10032e",
   "metadata": {},
   "outputs": [],
   "source": [
    "# A vous de jouer ! "
   ]
  },
  {
   "cell_type": "code",
   "execution_count": null,
   "id": "7a392185",
   "metadata": {},
   "outputs": [],
   "source": []
  },
  {
   "cell_type": "markdown",
   "id": "392d62cf",
   "metadata": {},
   "source": [
    "### Statsitiques prédicitives"
   ]
  },
  {
   "cell_type": "markdown",
   "id": "1e692a6f",
   "metadata": {},
   "source": [
    "**Causalité:** Relation entre deux événements où un événement est affecté par l'autre.   \n",
    "**Corrélation:** Mesure quantitative de la variabilité conjointe entre deux ou plusieurs variables. Elle se situe entre -1 à 1."
   ]
  },
  {
   "cell_type": "markdown",
   "id": "37e9c918",
   "metadata": {},
   "source": [
    "![title](corr.png)"
   ]
  },
  {
   "cell_type": "markdown",
   "id": "4d0c0798",
   "metadata": {},
   "source": [
    "![title](corrr.png)"
   ]
  },
  {
   "cell_type": "markdown",
   "id": "50783d94",
   "metadata": {},
   "source": [
    "Nous pouvons voir la distributions de nos points avec le graphe suivant"
   ]
  },
  {
   "cell_type": "code",
   "execution_count": 85,
   "id": "e76b98ae",
   "metadata": {},
   "outputs": [
    {
     "data": {
      "text/plain": [
       "<AxesSubplot:xlabel='Age', ylabel='Fare'>"
      ]
     },
     "execution_count": 85,
     "metadata": {},
     "output_type": "execute_result"
    },
    {
     "data": {
      "image/png": "[encoded data removed]",
      "text/plain": [
       "<Figure size 432x288 with 1 Axes>"
      ]
     },
     "metadata": {
      "needs_background": "light"
     },
     "output_type": "display_data"
    }
   ],
   "source": [
    "titanic_dataset.plot.scatter(x= 'Age', y='Fare')"
   ]
  },
  {
   "cell_type": "markdown",
   "id": "14025cf3",
   "metadata": {},
   "source": [
    "A votre avis le coefficent de correlation sera autour de quelle valeur ?"
   ]
  },
  {
   "cell_type": "code",
   "execution_count": 98,
   "id": "597fc1cc",
   "metadata": {},
   "outputs": [
    {
     "data": {
      "text/plain": [
       "0.09606669176903887"
      ]
     },
     "execution_count": 98,
     "metadata": {},
     "output_type": "execute_result"
    }
   ],
   "source": [
    "titanic_dataset['Age'].corr(titanic_dataset['Fare'], method ='pearson' )"
   ]
  },
  {
   "cell_type": "markdown",
   "id": "1776558f",
   "metadata": {},
   "source": [
    "**Mais attention correlation n'est PAS FORCEMENT EGAL à causalité !!!**"
   ]
  },
  {
   "cell_type": "markdown",
   "id": "1bc2bc52",
   "metadata": {},
   "source": [
    "Comme vous pouvez le voir sur le site suivant: https://www.tylervigen.com/spurious-correlations"
   ]
  },
  {
   "cell_type": "markdown",
   "id": "3cfdbdaa",
   "metadata": {},
   "source": [
    "![title](corrimg.png)"
   ]
  },
  {
   "cell_type": "markdown",
   "id": "54d771f5",
   "metadata": {},
   "source": [
    "## Partie 2 - Les bias en statistics et comment manipuler des données"
   ]
  },
  {
   "cell_type": "markdown",
   "id": "e47053ad",
   "metadata": {},
   "source": [
    "Sur le titanic les femmes adultes et les enfants avaient les meilleures chances de survie. En revacnhe ce n'était pas le cas pour les hommes. En effet à partir des données, nous pourrions dire que :\n",
    "\n",
    "Moins d'un homme sur cinq, sur le Titanic, a survécu.\n",
    "\n",
    "Presque 4 femmes sur 5, sur le Titanic, ont survécu.\n",
    "\n",
    "Est ce que nous pourrions également dire que les femmes avaient 4 fois plus de chance de suirvivre que les hommes ?\n",
    "\n",
    "Cette dernière affirmation est relative et donc beaucoup plus trompeuse que les deux premières qui sont absolues. Car si le taux de survie des femmes était 4 fois supérieur à celui des hommes, cela pourrait signifier soit :\n",
    "\n",
    ".01% - taux de survie des hommes  \n",
    "0,04% - taux de survie des femmes   \n",
    "\n",
    "ou\n",
    "\n",
    "20% - taux de survie des hommes  \n",
    "80% - taux de survie des femmes  \n"
   ]
  },
  {
   "cell_type": "markdown",
   "id": "866edb98",
   "metadata": {},
   "source": [
    "\"Politicians use statistics in the same way that a drunk uses lamp-posts—for support rather than illumination\" – Andrew Lang (WikiQuote) "
   ]
  },
  {
   "cell_type": "markdown",
   "id": "75821a0d",
   "metadata": {},
   "source": [
    "Je vous invite donc à lire les 2 articles suivants et à regarder la vidéo pour avoir une idée plus précise d'exemples de biais et de manipulations en statistiques:\n",
    "- https://towardsdatascience.com/lessons-from-how-to-lie-with-statistics-57060c0d2f19\n",
    "- https://www.statisticshowto.com/statistics-basics/fake-statistics/\n",
    "- https://www.youtube.com/watch?v=sxYrzzy3cq8"
   ]
  },
  {
   "cell_type": "markdown",
   "id": "dc6f9b2b",
   "metadata": {},
   "source": [
    "**Questions:**\n",
    "- Quel exemple vous a le plus marqué ? \n",
    "- Avez vous déjà été confronté à un exemple similaire dans votre vie ?"
   ]
  },
  {
   "cell_type": "markdown",
   "id": "6626f31f",
   "metadata": {},
   "source": [
    "## Partie 3 - A vous de manipuler les données 😈 !!"
   ]
  },
  {
   "cell_type": "markdown",
   "id": "89dcd97c",
   "metadata": {},
   "source": [
    "Choisissez un des datasets avec lequel nous avons travaillé dans les cours précédents et essayez de faire l'affirmation la plus choquante grâce à votre analyse statistique !      \n",
    "\n",
    "Pour cela préparez une slide avec votre affiramtion choquante et un graphique supportant votre affirmation et préparez une deuxième slide avec la manière correcte de présenter vos données. \n",
    "Vous deverez donc expliquer en quoi cette  affiramtion est fausse, quel type de biais est mis en jeu et quelle serait la manière correcte de présenter les informations.\n",
    "\n",
    "Chaqun présentera sa slide et on votera pour la plus choquante et convainquante !  "
   ]
  },
  {
   "cell_type": "code",
   "execution_count": null,
   "id": "55f422f5",
   "metadata": {},
   "outputs": [],
   "source": []
  }
 ],
 "metadata": {
  "kernelspec": {
   "display_name": "myenv",
   "language": "python",
   "name": "myenv"
  },
  "language_info": {
   "codemirror_mode": {
    "name": "ipython",
    "version": 3
   },
   "file_extension": ".py",
   "mimetype": "text/x-python",
   "name": "python",
   "nbconvert_exporter": "python",
   "pygments_lexer": "ipython3",
   "version": "3.7.10"
  }
 },
 "nbformat": 4,
 "nbformat_minor": 5
}
